{
  "nbformat": 4,
  "nbformat_minor": 0,
  "metadata": {
    "colab": {
      "name": "Final_Project.ipynb",
      "provenance": [],
      "collapsed_sections": []
    },
    "kernelspec": {
      "name": "python3",
      "display_name": "Python 3"
    },
    "language_info": {
      "name": "python"
    }
  },
  "cells": [
    {
      "cell_type": "markdown",
      "metadata": {
        "id": "gtRUdqtaKFIR"
      },
      "source": [
        "# Working code for Random Forest, Decision Tree and LSTM. \n",
        "## i) Models are run indivisually for testing first.\n",
        "## ii) A summary function is called at the end to show the metrics of the models for each fold of the Cross Validation."
      ]
    },
    {
      "cell_type": "markdown",
      "metadata": {
        "id": "1pVedpUM6-fY"
      },
      "source": [
        "# Importing the Diabetes dataset"
      ]
    },
    {
      "cell_type": "code",
      "metadata": {
        "colab": {
          "resources": {
            "http://localhost:8080/nbextensions/google.colab/files.js": {
              "data": "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",
              "ok": true,
              "headers": [
                [
                  "content-type",
                  "application/javascript"
                ]
              ],
              "status": 200,
              "status_text": ""
            }
          },
          "base_uri": "https://localhost:8080/",
          "height": 70
        },
        "id": "bsJIo7ESEBgX",
        "outputId": "6863442e-cdac-4351-905d-2db7da465508"
      },
      "source": [
        "#Cell works in google collab.\n",
        "\n",
        "from google.colab import files\n",
        "uploaded = files.upload()\n"
      ],
      "execution_count": 144,
      "outputs": [
        {
          "output_type": "display_data",
          "data": {
            "text/html": [
              "\n",
              "     <input type=\"file\" id=\"files-db121a36-6f52-49a8-9bcb-11b7591cf23a\" name=\"files[]\" multiple disabled\n",
              "        style=\"border:none\" />\n",
              "     <output id=\"result-db121a36-6f52-49a8-9bcb-11b7591cf23a\">\n",
              "      Upload widget is only available when the cell has been executed in the\n",
              "      current browser session. Please rerun this cell to enable.\n",
              "      </output>\n",
              "      <script src=\"/nbextensions/google.colab/files.js\"></script> "
            ],
            "text/plain": [
              "<IPython.core.display.HTML object>"
            ]
          },
          "metadata": {}
        },
        {
          "output_type": "stream",
          "name": "stdout",
          "text": [
            "Saving diabetes.csv to diabetes (1).csv\n"
          ]
        }
      ]
    },
    {
      "cell_type": "code",
      "metadata": {
        "colab": {
          "base_uri": "https://localhost:8080/"
        },
        "id": "tM0eBTaLEC_J",
        "outputId": "39f76972-54a4-4b31-e39d-e558d4899779"
      },
      "source": [
        "#First cell to be run on Jupyter Notebook.\n",
        "\n",
        "import pandas as pd\n",
        "import numpy as np\n",
        "import matplotlib.pyplot as plt\n",
        "%matplotlib inline\n",
        "diabetes = pd.read_csv('diabetes.csv')\n",
        "print(diabetes.columns)"
      ],
      "execution_count": 145,
      "outputs": [
        {
          "output_type": "stream",
          "name": "stdout",
          "text": [
            "Index(['Pregnancies', 'Glucose', 'BloodPressure', 'SkinThickness', 'Insulin',\n",
            "       'BMI', 'DiabetesPedigreeFunction', 'Age', 'Outcome'],\n",
            "      dtype='object')\n"
          ]
        }
      ]
    },
    {
      "cell_type": "markdown",
      "metadata": {
        "id": "uWMti1qMCKxq"
      },
      "source": [
        "# Preprocessing the Data"
      ]
    },
    {
      "cell_type": "code",
      "metadata": {
        "colab": {
          "base_uri": "https://localhost:8080/",
          "height": 206
        },
        "id": "ggCl_6WnESsP",
        "outputId": "2070d5f5-c4b6-41fc-969f-496ecfbd1e2a"
      },
      "source": [
        "diabetes.head()"
      ],
      "execution_count": 146,
      "outputs": [
        {
          "output_type": "execute_result",
          "data": {
            "text/html": [
              "<div>\n",
              "<style scoped>\n",
              "    .dataframe tbody tr th:only-of-type {\n",
              "        vertical-align: middle;\n",
              "    }\n",
              "\n",
              "    .dataframe tbody tr th {\n",
              "        vertical-align: top;\n",
              "    }\n",
              "\n",
              "    .dataframe thead th {\n",
              "        text-align: right;\n",
              "    }\n",
              "</style>\n",
              "<table border=\"1\" class=\"dataframe\">\n",
              "  <thead>\n",
              "    <tr style=\"text-align: right;\">\n",
              "      <th></th>\n",
              "      <th>Pregnancies</th>\n",
              "      <th>Glucose</th>\n",
              "      <th>BloodPressure</th>\n",
              "      <th>SkinThickness</th>\n",
              "      <th>Insulin</th>\n",
              "      <th>BMI</th>\n",
              "      <th>DiabetesPedigreeFunction</th>\n",
              "      <th>Age</th>\n",
              "      <th>Outcome</th>\n",
              "    </tr>\n",
              "  </thead>\n",
              "  <tbody>\n",
              "    <tr>\n",
              "      <th>0</th>\n",
              "      <td>6</td>\n",
              "      <td>148</td>\n",
              "      <td>72</td>\n",
              "      <td>35</td>\n",
              "      <td>0</td>\n",
              "      <td>33.6</td>\n",
              "      <td>0.627</td>\n",
              "      <td>50</td>\n",
              "      <td>1</td>\n",
              "    </tr>\n",
              "    <tr>\n",
              "      <th>1</th>\n",
              "      <td>1</td>\n",
              "      <td>85</td>\n",
              "      <td>66</td>\n",
              "      <td>29</td>\n",
              "      <td>0</td>\n",
              "      <td>26.6</td>\n",
              "      <td>0.351</td>\n",
              "      <td>31</td>\n",
              "      <td>0</td>\n",
              "    </tr>\n",
              "    <tr>\n",
              "      <th>2</th>\n",
              "      <td>8</td>\n",
              "      <td>183</td>\n",
              "      <td>64</td>\n",
              "      <td>0</td>\n",
              "      <td>0</td>\n",
              "      <td>23.3</td>\n",
              "      <td>0.672</td>\n",
              "      <td>32</td>\n",
              "      <td>1</td>\n",
              "    </tr>\n",
              "    <tr>\n",
              "      <th>3</th>\n",
              "      <td>1</td>\n",
              "      <td>89</td>\n",
              "      <td>66</td>\n",
              "      <td>23</td>\n",
              "      <td>94</td>\n",
              "      <td>28.1</td>\n",
              "      <td>0.167</td>\n",
              "      <td>21</td>\n",
              "      <td>0</td>\n",
              "    </tr>\n",
              "    <tr>\n",
              "      <th>4</th>\n",
              "      <td>0</td>\n",
              "      <td>137</td>\n",
              "      <td>40</td>\n",
              "      <td>35</td>\n",
              "      <td>168</td>\n",
              "      <td>43.1</td>\n",
              "      <td>2.288</td>\n",
              "      <td>33</td>\n",
              "      <td>1</td>\n",
              "    </tr>\n",
              "  </tbody>\n",
              "</table>\n",
              "</div>"
            ],
            "text/plain": [
              "   Pregnancies  Glucose  BloodPressure  ...  DiabetesPedigreeFunction  Age  Outcome\n",
              "0            6      148             72  ...                     0.627   50        1\n",
              "1            1       85             66  ...                     0.351   31        0\n",
              "2            8      183             64  ...                     0.672   32        1\n",
              "3            1       89             66  ...                     0.167   21        0\n",
              "4            0      137             40  ...                     2.288   33        1\n",
              "\n",
              "[5 rows x 9 columns]"
            ]
          },
          "metadata": {},
          "execution_count": 146
        }
      ]
    },
    {
      "cell_type": "code",
      "metadata": {
        "colab": {
          "base_uri": "https://localhost:8080/"
        },
        "id": "FEQyHodxETx_",
        "outputId": "622ae90b-e6cd-4572-a812-3d089eef64f0"
      },
      "source": [
        "print(\"dimension of diabetes data: {}\".format(diabetes.shape))"
      ],
      "execution_count": 147,
      "outputs": [
        {
          "output_type": "stream",
          "name": "stdout",
          "text": [
            "dimension of diabetes data: (768, 9)\n"
          ]
        }
      ]
    },
    {
      "cell_type": "code",
      "metadata": {
        "colab": {
          "base_uri": "https://localhost:8080/"
        },
        "id": "sjnXZG22EVDf",
        "outputId": "8c6f7031-cd73-491e-d4af-36abd7dc3652"
      },
      "source": [
        "print(diabetes.groupby('Outcome').size())"
      ],
      "execution_count": 148,
      "outputs": [
        {
          "output_type": "stream",
          "name": "stdout",
          "text": [
            "Outcome\n",
            "0    500\n",
            "1    268\n",
            "dtype: int64\n"
          ]
        }
      ]
    },
    {
      "cell_type": "code",
      "metadata": {
        "id": "IgevfJiIEV__"
      },
      "source": [
        "from sklearn.model_selection import train_test_split\n",
        "X=diabetes[['Pregnancies', 'Glucose', 'BloodPressure', 'SkinThickness','Insulin','BMI','DiabetesPedigreeFunction','Age']]  # Features\n",
        "y=diabetes['Outcome']  # Labels\n",
        "X_train, X_test, y_train, y_test = train_test_split(X, y, test_size=0.25, random_state=42)"
      ],
      "execution_count": 149,
      "outputs": []
    },
    {
      "cell_type": "markdown",
      "metadata": {
        "id": "O5JEewKUGNmC"
      },
      "source": [
        "# Random Forrest"
      ]
    },
    {
      "cell_type": "markdown",
      "metadata": {
        "id": "D7KIqj96AnAh"
      },
      "source": [
        "### Importing dependencies"
      ]
    },
    {
      "cell_type": "code",
      "metadata": {
        "id": "Y6r8Eo-k9T3w"
      },
      "source": [
        "from sklearn.model_selection import cross_val_score\n",
        "from sklearn.model_selection import cross_val_predict\n",
        "from sklearn.model_selection import KFold\n",
        "from sklearn.metrics import accuracy_score\n",
        "from sklearn.metrics import precision_score, recall_score, f1_score\n",
        "from sklearn.metrics import confusion_matrix\n",
        "from sklearn.ensemble import RandomForestClassifier\n",
        "import matplotlib.pyplot as plt\n",
        "import seaborn as sns\n",
        "from sklearn.metrics import roc_curve\n",
        "from sklearn.metrics import roc_auc_score\n",
        "from matplotlib import pyplot"
      ],
      "execution_count": 150,
      "outputs": []
    },
    {
      "cell_type": "code",
      "metadata": {
        "colab": {
          "base_uri": "https://localhost:8080/"
        },
        "id": "0YvLGM6OEZhu",
        "outputId": "3278e8a7-b333-4daf-8c5b-8bb9977ae1b5"
      },
      "source": [
        "rf = RandomForestClassifier(max_depth=3, n_estimators=100, random_state=0)\n",
        "rf.fit(X_train, y_train)\n",
        "print(\"Accuracy on training set: {:.3f}\".format(rf.score(X_train, y_train)))\n",
        "print(\"Accuracy on test set: {:.3f}\".format(rf.score(X_test, y_test)))"
      ],
      "execution_count": 151,
      "outputs": [
        {
          "output_type": "stream",
          "name": "stdout",
          "text": [
            "Accuracy on training set: 0.799\n",
            "Accuracy on test set: 0.766\n"
          ]
        }
      ]
    },
    {
      "cell_type": "markdown",
      "metadata": {
        "id": "UaBArIBaAtFz"
      },
      "source": [
        "### 10-fold cross validation method "
      ]
    },
    {
      "cell_type": "code",
      "metadata": {
        "colab": {
          "base_uri": "https://localhost:8080/"
        },
        "id": "yVzwgQQGEdPG",
        "outputId": "9f8fc72e-cba1-4fe2-ce6b-13e4d3b3af46"
      },
      "source": [
        "cv = KFold(n_splits=10, random_state=1, shuffle=True)\n",
        "y_pred_rf = rf.predict(X_test)\n",
        "def crossValidation(model, x, y):\n",
        " score = cross_val_score(model, x, y, cv=cv)\n",
        " print(\"Cross validation: \",np.mean(score)*100)\n",
        " print('Precision: %.3f' % precision_score(y_test, y_pred_rf))\n",
        " print('Recall: %.3f' % recall_score(y_test, y_pred_rf))\n",
        " print('Accuracy: %.3f' % accuracy_score(y_test, y_pred_rf))\n",
        " print('F1 Score: %.3f' % f1_score(y_test, y_pred_rf))\n",
        "crossValidation(rf, X, y)"
      ],
      "execution_count": 152,
      "outputs": [
        {
          "output_type": "stream",
          "name": "stdout",
          "text": [
            "Cross validation:  75.6373889268626\n",
            "Precision: 0.740\n",
            "Recall: 0.536\n",
            "Accuracy: 0.766\n",
            "F1 Score: 0.622\n"
          ]
        }
      ]
    },
    {
      "cell_type": "markdown",
      "metadata": {
        "id": "XUYjb1tkAg4R"
      },
      "source": [
        "### Confusion Matrix for RF"
      ]
    },
    {
      "cell_type": "code",
      "metadata": {
        "colab": {
          "base_uri": "https://localhost:8080/"
        },
        "id": "TjhOHw6HEhKn",
        "outputId": "35261b67-7312-4611-c03f-c6914a44a322"
      },
      "source": [
        "cm = confusion_matrix(y_test, y_pred_rf)\n",
        "cm"
      ],
      "execution_count": 232,
      "outputs": [
        {
          "output_type": "execute_result",
          "data": {
            "text/plain": [
              "array([[110,  13],\n",
              "       [ 32,  37]])"
            ]
          },
          "metadata": {},
          "execution_count": 232
        }
      ]
    },
    {
      "cell_type": "code",
      "metadata": {
        "colab": {
          "base_uri": "https://localhost:8080/"
        },
        "id": "nXBxtIKk1sy5",
        "outputId": "dd92962a-f71e-4dd7-8352-a389d26aae80"
      },
      "source": [
        "TP_rf = cm[0,0]\n",
        "TP_rf\n"
      ],
      "execution_count": 356,
      "outputs": [
        {
          "output_type": "execute_result",
          "data": {
            "text/plain": [
              "110"
            ]
          },
          "metadata": {},
          "execution_count": 356
        }
      ]
    },
    {
      "cell_type": "code",
      "metadata": {
        "colab": {
          "base_uri": "https://localhost:8080/"
        },
        "id": "8hqS5B003gUG",
        "outputId": "4890d4bc-f074-45cb-b78f-6c9747f5456f"
      },
      "source": [
        "TN_rf = cm[0,1]\n",
        "TN_rf"
      ],
      "execution_count": 355,
      "outputs": [
        {
          "output_type": "execute_result",
          "data": {
            "text/plain": [
              "13"
            ]
          },
          "metadata": {},
          "execution_count": 355
        }
      ]
    },
    {
      "cell_type": "code",
      "metadata": {
        "colab": {
          "base_uri": "https://localhost:8080/"
        },
        "id": "YuDyQmsx3iuk",
        "outputId": "ee2a4a99-57d9-4a03-8eb2-6098d20a3838"
      },
      "source": [
        "FP_rf = cm[1,0]\n",
        "FP_rf"
      ],
      "execution_count": 354,
      "outputs": [
        {
          "output_type": "execute_result",
          "data": {
            "text/plain": [
              "32"
            ]
          },
          "metadata": {},
          "execution_count": 354
        }
      ]
    },
    {
      "cell_type": "code",
      "metadata": {
        "colab": {
          "base_uri": "https://localhost:8080/"
        },
        "id": "Rw2So-ak3p_9",
        "outputId": "1006f398-22a6-495a-9a66-c740b771c5a2"
      },
      "source": [
        "FN_rf = cm[1,1]\n",
        "FN_rf"
      ],
      "execution_count": 353,
      "outputs": [
        {
          "output_type": "execute_result",
          "data": {
            "text/plain": [
              "37"
            ]
          },
          "metadata": {},
          "execution_count": 353
        }
      ]
    },
    {
      "cell_type": "code",
      "metadata": {
        "colab": {
          "base_uri": "https://localhost:8080/",
          "height": 282
        },
        "id": "Ha-q3mc0Ekqo",
        "outputId": "da1dd83e-439d-4ae7-eaf8-ac7079763e20"
      },
      "source": [
        "sns.heatmap(cm,annot=True,cmap='Blues', fmt='g')"
      ],
      "execution_count": 154,
      "outputs": [
        {
          "output_type": "execute_result",
          "data": {
            "text/plain": [
              "<matplotlib.axes._subplots.AxesSubplot at 0x7f517b0d1f10>"
            ]
          },
          "metadata": {},
          "execution_count": 154
        },
        {
          "output_type": "display_data",
          "data": {
            "image/png": "[encoded data removed]",
            "text/plain": [
              "<Figure size 432x288 with 2 Axes>"
            ]
          },
          "metadata": {
            "needs_background": "light"
          }
        }
      ]
    },
    {
      "cell_type": "markdown",
      "metadata": {
        "id": "yWOY80B7GRcu"
      },
      "source": [
        "# Decision Tree"
      ]
    },
    {
      "cell_type": "markdown",
      "metadata": {
        "id": "N43cP7jdAqNm"
      },
      "source": [
        "### Importing dependencies"
      ]
    },
    {
      "cell_type": "code",
      "metadata": {
        "id": "0zc8hejUEoN-"
      },
      "source": [
        "from sklearn.tree import DecisionTreeClassifier"
      ],
      "execution_count": 155,
      "outputs": []
    },
    {
      "cell_type": "code",
      "metadata": {
        "colab": {
          "base_uri": "https://localhost:8080/"
        },
        "id": "sSJm8K0JARzQ",
        "outputId": "f755075b-9ceb-42ac-b15d-e1c12f9cfd2b"
      },
      "source": [
        "tree = DecisionTreeClassifier(max_depth=3, random_state=0)\n",
        "tree.fit(X_train, y_train)\n",
        "print(\"Accuracy on training set: {:.3f}\".format(tree.score(X_train, y_train)))\n",
        "print(\"Accuracy on test set: {:.3f}\".format(tree.score(X_test, y_test)))"
      ],
      "execution_count": 156,
      "outputs": [
        {
          "output_type": "stream",
          "name": "stdout",
          "text": [
            "Accuracy on training set: 0.773\n",
            "Accuracy on test set: 0.714\n"
          ]
        }
      ]
    },
    {
      "cell_type": "markdown",
      "metadata": {
        "id": "YNCCVFAoA4fF"
      },
      "source": [
        "### 10-fold cross validation method "
      ]
    },
    {
      "cell_type": "code",
      "metadata": {
        "colab": {
          "base_uri": "https://localhost:8080/"
        },
        "id": "-N3ZTxjNEqMX",
        "outputId": "45250750-bcdf-4399-d235-66d995b3b9f3"
      },
      "source": [
        "cv_dt = KFold(n_splits=10, random_state=1, shuffle=True)\n",
        "y_pred_dt = tree.predict(X_test)\n",
        "def crossValidation(tree, x, y):\n",
        " score = cross_val_score(tree, x, y, cv=cv_dt)\n",
        " print(\"Cross validation: \",np.mean(score)*100)\n",
        " print('Precision: %.3f' % precision_score(y_test, y_pred_dt))\n",
        " print('Recall: %.3f' % recall_score(y_test, y_pred_dt))\n",
        " print('Accuracy: %.3f' % accuracy_score(y_test, y_pred_dt))\n",
        " print('F1 Score: %.3f' % f1_score(y_test, y_pred_dt))\n",
        "crossValidation(tree, X, y)"
      ],
      "execution_count": 157,
      "outputs": [
        {
          "output_type": "stream",
          "name": "stdout",
          "text": [
            "Cross validation:  73.81237183868762\n",
            "Precision: 0.635\n",
            "Recall: 0.478\n",
            "Accuracy: 0.714\n",
            "F1 Score: 0.545\n"
          ]
        }
      ]
    },
    {
      "cell_type": "markdown",
      "metadata": {
        "id": "EQFwEPKTAb3x"
      },
      "source": [
        "### Confusion Matrix for DT"
      ]
    },
    {
      "cell_type": "code",
      "metadata": {
        "colab": {
          "base_uri": "https://localhost:8080/"
        },
        "id": "hrhF0NFjEsCA",
        "outputId": "9cc3c405-1a7b-4098-c998-9a8c3e24743d"
      },
      "source": [
        "cm_dt = confusion_matrix(y_test, y_pred_dt)\n",
        "cm_dt"
      ],
      "execution_count": 158,
      "outputs": [
        {
          "output_type": "execute_result",
          "data": {
            "text/plain": [
              "array([[104,  19],\n",
              "       [ 36,  33]])"
            ]
          },
          "metadata": {},
          "execution_count": 158
        }
      ]
    },
    {
      "cell_type": "code",
      "metadata": {
        "id": "1f8UW7K64LAp"
      },
      "source": [
        "TP_dt = cm_dt[0,0]\n",
        "TN_dt = cm_dt[0,1]\n",
        "FP_dt = cm_dt[1,0]\n",
        "FN_dt = cm_dt[1,1]\n",
        "\n",
        "TP_dt = cm_dt[0,0]\n",
        "\n",
        "\n",
        "TN_dt = cm_dt[0,1]\n",
        "\n",
        "\n",
        "FP_dt = cm_dt[1,0]\n",
        "\n",
        "\n",
        "FN_dt = cm_dt[1,0]\n"
      ],
      "execution_count": 333,
      "outputs": []
    },
    {
      "cell_type": "code",
      "metadata": {
        "colab": {
          "base_uri": "https://localhost:8080/",
          "height": 282
        },
        "id": "MaVoriyGEtWg",
        "outputId": "1134e8ec-6772-4f3c-e3a0-299dde1c0aa5"
      },
      "source": [
        "sns.heatmap(cm_dt,annot=True,cmap='Blues', fmt='g')"
      ],
      "execution_count": 159,
      "outputs": [
        {
          "output_type": "execute_result",
          "data": {
            "text/plain": [
              "<matplotlib.axes._subplots.AxesSubplot at 0x7f517b04ea10>"
            ]
          },
          "metadata": {},
          "execution_count": 159
        },
        {
          "output_type": "display_data",
          "data": {
            "image/png": "[encoded data removed]",
            "text/plain": [
              "<Figure size 432x288 with 2 Axes>"
            ]
          },
          "metadata": {
            "needs_background": "light"
          }
        }
      ]
    },
    {
      "cell_type": "markdown",
      "metadata": {
        "id": "RjISx7N3GFQm"
      },
      "source": [
        "# LSTM"
      ]
    },
    {
      "cell_type": "code",
      "metadata": {
        "id": "A4DFz9MJEwOm"
      },
      "source": [
        "import tensorflow as tf\n",
        "from keras.models import Sequential\n",
        "from keras.layers import Dense\n",
        "from keras.layers import LSTM\n",
        "from keras.layers import Dropout"
      ],
      "execution_count": 160,
      "outputs": []
    },
    {
      "cell_type": "code",
      "metadata": {
        "colab": {
          "base_uri": "https://localhost:8080/"
        },
        "id": "lGs6DjDhExI_",
        "outputId": "ccec872f-a905-49bb-8c2c-5e72cc104e36"
      },
      "source": [
        "model = Sequential()\n",
        "model.add(LSTM(units=80, input_shape = (X_train.shape[1], 1)))\n",
        "model.add(Dropout(0.2))\n",
        "model.add(Dense(units = 1))\n",
        "model.summary()"
      ],
      "execution_count": 161,
      "outputs": [
        {
          "output_type": "stream",
          "name": "stdout",
          "text": [
            "Model: \"sequential_1\"\n",
            "_________________________________________________________________\n",
            " Layer (type)                Output Shape              Param #   \n",
            "=================================================================\n",
            " lstm_1 (LSTM)               (None, 80)                26240     \n",
            "                                                                 \n",
            " dropout_1 (Dropout)         (None, 80)                0         \n",
            "                                                                 \n",
            " dense_1 (Dense)             (None, 1)                 81        \n",
            "                                                                 \n",
            "=================================================================\n",
            "Total params: 26,321\n",
            "Trainable params: 26,321\n",
            "Non-trainable params: 0\n",
            "_________________________________________________________________\n"
          ]
        }
      ]
    },
    {
      "cell_type": "code",
      "metadata": {
        "id": "bEcFRqEpEzJv"
      },
      "source": [
        "model.compile(optimizer='sgd', loss='mean_squared_error', metrics=['accuracy'])"
      ],
      "execution_count": 162,
      "outputs": []
    },
    {
      "cell_type": "code",
      "metadata": {
        "colab": {
          "base_uri": "https://localhost:8080/"
        },
        "id": "foZX4_USFktn",
        "outputId": "66953e2f-8440-4212-978d-55d1c8da59f3"
      },
      "source": [
        "model.fit(X_train, y_train, epochs=50)"
      ],
      "execution_count": 163,
      "outputs": [
        {
          "output_type": "stream",
          "name": "stdout",
          "text": [
            "Epoch 1/50\n",
            "18/18 [==============================] - 2s 8ms/step - loss: 0.3491 - accuracy: 0.5712\n",
            "Epoch 2/50\n",
            "18/18 [==============================] - 0s 7ms/step - loss: 0.3201 - accuracy: 0.5990\n",
            "Epoch 3/50\n",
            "18/18 [==============================] - 0s 7ms/step - loss: 0.2697 - accuracy: 0.6267\n",
            "Epoch 4/50\n",
            "18/18 [==============================] - 0s 8ms/step - loss: 0.2739 - accuracy: 0.5920\n",
            "Epoch 5/50\n",
            "18/18 [==============================] - 0s 8ms/step - loss: 0.2801 - accuracy: 0.6198\n",
            "Epoch 6/50\n",
            "18/18 [==============================] - 0s 7ms/step - loss: 0.2399 - accuracy: 0.6372\n",
            "Epoch 7/50\n",
            "18/18 [==============================] - 0s 7ms/step - loss: 0.2494 - accuracy: 0.6267\n",
            "Epoch 8/50\n",
            "18/18 [==============================] - 0s 7ms/step - loss: 0.2343 - accuracy: 0.6528\n",
            "Epoch 9/50\n",
            "18/18 [==============================] - 0s 7ms/step - loss: 0.2392 - accuracy: 0.6181\n",
            "Epoch 10/50\n",
            "18/18 [==============================] - 0s 7ms/step - loss: 0.2273 - accuracy: 0.6528\n",
            "Epoch 11/50\n",
            "18/18 [==============================] - 0s 7ms/step - loss: 0.2250 - accuracy: 0.6267\n",
            "Epoch 12/50\n",
            "18/18 [==============================] - 0s 7ms/step - loss: 0.2259 - accuracy: 0.6493\n",
            "Epoch 13/50\n",
            "18/18 [==============================] - 0s 7ms/step - loss: 0.2064 - accuracy: 0.6840\n",
            "Epoch 14/50\n",
            "18/18 [==============================] - 0s 7ms/step - loss: 0.2209 - accuracy: 0.6476\n",
            "Epoch 15/50\n",
            "18/18 [==============================] - 0s 7ms/step - loss: 0.2102 - accuracy: 0.6562\n",
            "Epoch 16/50\n",
            "18/18 [==============================] - 0s 7ms/step - loss: 0.2123 - accuracy: 0.6510\n",
            "Epoch 17/50\n",
            "18/18 [==============================] - 0s 8ms/step - loss: 0.2176 - accuracy: 0.6528\n",
            "Epoch 18/50\n",
            "18/18 [==============================] - 0s 8ms/step - loss: 0.2082 - accuracy: 0.6806\n",
            "Epoch 19/50\n",
            "18/18 [==============================] - 0s 7ms/step - loss: 0.2114 - accuracy: 0.6354\n",
            "Epoch 20/50\n",
            "18/18 [==============================] - 0s 7ms/step - loss: 0.2098 - accuracy: 0.6684\n",
            "Epoch 21/50\n",
            "18/18 [==============================] - 0s 6ms/step - loss: 0.2093 - accuracy: 0.6580\n",
            "Epoch 22/50\n",
            "18/18 [==============================] - 0s 7ms/step - loss: 0.2137 - accuracy: 0.6389\n",
            "Epoch 23/50\n",
            "18/18 [==============================] - 0s 7ms/step - loss: 0.2115 - accuracy: 0.6736\n",
            "Epoch 24/50\n",
            "18/18 [==============================] - 0s 7ms/step - loss: 0.2027 - accuracy: 0.6788\n",
            "Epoch 25/50\n",
            "18/18 [==============================] - 0s 8ms/step - loss: 0.2041 - accuracy: 0.6615\n",
            "Epoch 26/50\n",
            "18/18 [==============================] - 0s 7ms/step - loss: 0.2049 - accuracy: 0.6597\n",
            "Epoch 27/50\n",
            "18/18 [==============================] - 0s 8ms/step - loss: 0.2055 - accuracy: 0.6719\n",
            "Epoch 28/50\n",
            "18/18 [==============================] - 0s 7ms/step - loss: 0.2014 - accuracy: 0.6632\n",
            "Epoch 29/50\n",
            "18/18 [==============================] - 0s 6ms/step - loss: 0.2009 - accuracy: 0.6684\n",
            "Epoch 30/50\n",
            "18/18 [==============================] - 0s 6ms/step - loss: 0.1989 - accuracy: 0.6719\n",
            "Epoch 31/50\n",
            "18/18 [==============================] - 0s 7ms/step - loss: 0.2040 - accuracy: 0.6840\n",
            "Epoch 32/50\n",
            "18/18 [==============================] - 0s 7ms/step - loss: 0.2025 - accuracy: 0.6667\n",
            "Epoch 33/50\n",
            "18/18 [==============================] - 0s 6ms/step - loss: 0.2020 - accuracy: 0.6892\n",
            "Epoch 34/50\n",
            "18/18 [==============================] - 0s 7ms/step - loss: 0.1964 - accuracy: 0.6858\n",
            "Epoch 35/50\n",
            "18/18 [==============================] - 0s 7ms/step - loss: 0.2030 - accuracy: 0.6597\n",
            "Epoch 36/50\n",
            "18/18 [==============================] - 0s 7ms/step - loss: 0.2015 - accuracy: 0.6840\n",
            "Epoch 37/50\n",
            "18/18 [==============================] - 0s 7ms/step - loss: 0.1988 - accuracy: 0.6806\n",
            "Epoch 38/50\n",
            "18/18 [==============================] - 0s 6ms/step - loss: 0.1986 - accuracy: 0.6719\n",
            "Epoch 39/50\n",
            "18/18 [==============================] - 0s 6ms/step - loss: 0.2062 - accuracy: 0.6684\n",
            "Epoch 40/50\n",
            "18/18 [==============================] - 0s 7ms/step - loss: 0.2026 - accuracy: 0.6823\n",
            "Epoch 41/50\n",
            "18/18 [==============================] - 0s 7ms/step - loss: 0.1968 - accuracy: 0.6632\n",
            "Epoch 42/50\n",
            "18/18 [==============================] - 0s 7ms/step - loss: 0.1973 - accuracy: 0.6910\n",
            "Epoch 43/50\n",
            "18/18 [==============================] - 0s 7ms/step - loss: 0.2025 - accuracy: 0.6493\n",
            "Epoch 44/50\n",
            "18/18 [==============================] - 0s 7ms/step - loss: 0.1970 - accuracy: 0.7031\n",
            "Epoch 45/50\n",
            "18/18 [==============================] - 0s 7ms/step - loss: 0.1955 - accuracy: 0.6701\n",
            "Epoch 46/50\n",
            "18/18 [==============================] - 0s 7ms/step - loss: 0.1976 - accuracy: 0.6806\n",
            "Epoch 47/50\n",
            "18/18 [==============================] - 0s 6ms/step - loss: 0.1985 - accuracy: 0.6597\n",
            "Epoch 48/50\n",
            "18/18 [==============================] - 0s 7ms/step - loss: 0.2004 - accuracy: 0.6823\n",
            "Epoch 49/50\n",
            "18/18 [==============================] - 0s 6ms/step - loss: 0.1973 - accuracy: 0.6892\n",
            "Epoch 50/50\n",
            "18/18 [==============================] - 0s 6ms/step - loss: 0.2013 - accuracy: 0.6753\n"
          ]
        },
        {
          "output_type": "execute_result",
          "data": {
            "text/plain": [
              "<keras.callbacks.History at 0x7f517ae6f6d0>"
            ]
          },
          "metadata": {},
          "execution_count": 163
        }
      ]
    },
    {
      "cell_type": "code",
      "metadata": {
        "colab": {
          "base_uri": "https://localhost:8080/"
        },
        "id": "VzbaFZaJm5Su",
        "outputId": "8766dfe9-3b2e-4625-c8ce-b17a4c7cf013"
      },
      "source": [
        "predict_x=model.predict(y_test) \n",
        "classes_x=np.argmax(predict_x,axis=1)\n",
        "con_mat = tf.math.confusion_matrix(labels=y_test, predictions=y_predict).numpy()"
      ],
      "execution_count": 164,
      "outputs": [
        {
          "output_type": "stream",
          "name": "stdout",
          "text": [
            "WARNING:tensorflow:Model was constructed with shape (None, 8, 1) for input KerasTensor(type_spec=TensorSpec(shape=(None, 8, 1), dtype=tf.float32, name='lstm_1_input'), name='lstm_1_input', description=\"created by layer 'lstm_1_input'\"), but it was called on an input with incompatible shape (32, 1, 1).\n"
          ]
        }
      ]
    },
    {
      "cell_type": "code",
      "metadata": {
        "id": "i7GaZL5Co_-c"
      },
      "source": [
        "con_mat_norm = np.around(con_mat.astype('float') / con_mat.sum(axis=1)[:, np.newaxis], decimals=2)\n",
        "con_mat_df = pd.DataFrame(con_mat_norm)"
      ],
      "execution_count": 165,
      "outputs": []
    },
    {
      "cell_type": "code",
      "metadata": {
        "colab": {
          "base_uri": "https://localhost:8080/",
          "height": 599
        },
        "id": "vsJdT4cBpOjj",
        "outputId": "36c102c0-810d-4464-f84f-ff8bdfd0a940"
      },
      "source": [
        "figure = plt.figure(figsize=(8, 8))\n",
        "sns.heatmap(con_mat_df, annot=True,cmap=plt.cm.Blues)\n",
        "plt.tight_layout()\n",
        "plt.ylabel('True label')\n",
        "plt.xlabel('Predicted label')\n",
        "plt.show()"
      ],
      "execution_count": 166,
      "outputs": [
        {
          "output_type": "display_data",
          "data": {
            "image/png": "[encoded data removed]",
            "text/plain": [
              "<Figure size 576x576 with 2 Axes>"
            ]
          },
          "metadata": {
            "needs_background": "light"
          }
        }
      ]
    },
    {
      "cell_type": "code",
      "metadata": {
        "colab": {
          "base_uri": "https://localhost:8080/"
        },
        "id": "XOPioFrRFpow",
        "outputId": "e867f2c5-7f64-4a9d-d674-39cef06b2484"
      },
      "source": [
        "cv_lstm = KFold(n_splits=10, random_state=1, shuffle=True)\n",
        "y_pred_lstm = model.predict(X_test)\n",
        "def crossValidation(model, x, y):\n",
        " score = cross_val_score(tree, x, y, cv=cv_lstm)\n",
        " print(\"Cross validation: \",np.mean(score)*100)\n",
        "crossValidation(model, X, y)"
      ],
      "execution_count": 340,
      "outputs": [
        {
          "output_type": "stream",
          "name": "stdout",
          "text": [
            "Cross validation:  73.81237183868762\n"
          ]
        }
      ]
    },
    {
      "cell_type": "code",
      "metadata": {
        "colab": {
          "base_uri": "https://localhost:8080/"
        },
        "id": "A1xsw1OaEbXz",
        "outputId": "28034ca6-0d5d-4208-df07-5280a742d8ad"
      },
      "source": [
        "result = crossValidation(model, X, y)\n",
        "result"
      ],
      "execution_count": 341,
      "outputs": [
        {
          "output_type": "stream",
          "name": "stdout",
          "text": [
            "Cross validation:  73.81237183868762\n"
          ]
        }
      ]
    },
    {
      "cell_type": "code",
      "metadata": {
        "id": "gnujNTRA6B-_"
      },
      "source": [
        "from sklearn.metrics import roc_curve\n",
        "from sklearn.metrics import roc_auc_score\n",
        "from matplotlib import pyplot"
      ],
      "execution_count": 168,
      "outputs": []
    },
    {
      "cell_type": "code",
      "metadata": {
        "id": "QIiQha9C95k9"
      },
      "source": [
        "nd_auc = roc_auc_score(y_test, y_pred_lstm)"
      ],
      "execution_count": 169,
      "outputs": []
    },
    {
      "cell_type": "code",
      "metadata": {
        "colab": {
          "base_uri": "https://localhost:8080/"
        },
        "id": "HzE97WgV-Lq1",
        "outputId": "c5eaa875-3dca-4ad3-d77e-a65a057db19e"
      },
      "source": [
        "print('No Diabetes: ROC AUC=%.3f' % (nd_auc))"
      ],
      "execution_count": 170,
      "outputs": [
        {
          "output_type": "stream",
          "name": "stdout",
          "text": [
            "No Diabetes: ROC AUC=0.645\n"
          ]
        }
      ]
    },
    {
      "cell_type": "code",
      "metadata": {
        "colab": {
          "base_uri": "https://localhost:8080/",
          "height": 296
        },
        "id": "txg5mxKF-NnP",
        "outputId": "4430b1c0-bde9-4ac0-e6d0-eb78e1036c41"
      },
      "source": [
        "nd_fpr, nd_tpr, _ = roc_curve(y_test, y_pred_lstm)\n",
        "pyplot.plot(nd_fpr, nd_tpr, linestyle='--')\n",
        "pyplot.xlabel('False Positive Rate')\n",
        "pyplot.ylabel('True Positive Rate')\n",
        "pyplot.legend()\n",
        "pyplot.show()"
      ],
      "execution_count": 171,
      "outputs": [
        {
          "output_type": "stream",
          "name": "stderr",
          "text": [
            "No handles with labels found to put in legend.\n"
          ]
        },
        {
          "output_type": "display_data",
          "data": {
            "image/png": "[encoded data removed]",
            "text/plain": [
              "<Figure size 432x288 with 1 Axes>"
            ]
          },
          "metadata": {
            "needs_background": "light"
          }
        }
      ]
    },
    {
      "cell_type": "code",
      "metadata": {
        "colab": {
          "base_uri": "https://localhost:8080/"
        },
        "id": "At13fUIq-YTG",
        "outputId": "cb5c13a6-5021-493c-c291-fbc5f282aa7d"
      },
      "source": [
        "nd_fpr #FPR for LSTM"
      ],
      "execution_count": 337,
      "outputs": [
        {
          "output_type": "execute_result",
          "data": {
            "text/plain": [
              "array([0.        , 0.        , 0.00813008, 0.00813008, 0.06504065,\n",
              "       0.06504065, 0.08943089, 0.08943089, 0.10569106, 0.10569106,\n",
              "       0.12195122, 0.12195122, 0.1300813 , 0.1300813 , 0.14634146,\n",
              "       0.14634146, 0.17073171, 0.17073171, 0.17886179, 0.17886179,\n",
              "       0.19512195, 0.19512195, 0.2195122 , 0.2195122 , 0.2601626 ,\n",
              "       0.2601626 , 0.28455285, 0.28455285, 0.29268293, 0.29268293,\n",
              "       0.30081301, 0.30081301, 0.30894309, 0.30894309, 0.31707317,\n",
              "       0.31707317, 0.33333333, 0.33333333, 0.36585366, 0.36585366,\n",
              "       0.3902439 , 0.3902439 , 0.39837398, 0.39837398, 0.45528455,\n",
              "       0.45528455, 0.46341463, 0.46341463, 0.47154472, 0.47154472,\n",
              "       0.4796748 , 0.4796748 , 0.48780488, 0.48780488, 0.51219512,\n",
              "       0.51219512, 0.5203252 , 0.5203252 , 0.55284553, 0.55284553,\n",
              "       0.57723577, 0.57723577, 0.58536585, 0.58536585, 0.60162602,\n",
              "       0.60162602, 0.64227642, 0.64227642, 0.69918699, 0.69918699,\n",
              "       0.70731707, 0.70731707, 0.73170732, 0.73170732, 0.76422764,\n",
              "       0.76422764, 0.78861789, 0.78861789, 1.        ])"
            ]
          },
          "metadata": {},
          "execution_count": 337
        }
      ]
    },
    {
      "cell_type": "code",
      "metadata": {
        "colab": {
          "base_uri": "https://localhost:8080/"
        },
        "id": "e6Lk2oaPLqyw",
        "outputId": "be283b77-b70f-4862-84b1-ccd0a16b2273"
      },
      "source": [
        "nd_tpr #TPR for LSTM"
      ],
      "execution_count": 336,
      "outputs": [
        {
          "output_type": "execute_result",
          "data": {
            "text/plain": [
              "array([0.        , 0.01449275, 0.01449275, 0.02898551, 0.02898551,\n",
              "       0.04347826, 0.04347826, 0.05797101, 0.05797101, 0.08695652,\n",
              "       0.08695652, 0.13043478, 0.13043478, 0.14492754, 0.14492754,\n",
              "       0.15942029, 0.15942029, 0.23188406, 0.23188406, 0.27536232,\n",
              "       0.27536232, 0.28985507, 0.28985507, 0.31884058, 0.31884058,\n",
              "       0.4057971 , 0.4057971 , 0.42028986, 0.42028986, 0.43478261,\n",
              "       0.43478261, 0.44927536, 0.44927536, 0.47826087, 0.47826087,\n",
              "       0.50724638, 0.50724638, 0.55072464, 0.55072464, 0.5942029 ,\n",
              "       0.5942029 , 0.60869565, 0.60869565, 0.62318841, 0.62318841,\n",
              "       0.65217391, 0.65217391, 0.66666667, 0.66666667, 0.68115942,\n",
              "       0.68115942, 0.71014493, 0.71014493, 0.72463768, 0.72463768,\n",
              "       0.75362319, 0.75362319, 0.79710145, 0.79710145, 0.82608696,\n",
              "       0.82608696, 0.86956522, 0.86956522, 0.88405797, 0.88405797,\n",
              "       0.89855072, 0.89855072, 0.92753623, 0.92753623, 0.94202899,\n",
              "       0.94202899, 0.95652174, 0.95652174, 0.97101449, 0.97101449,\n",
              "       0.98550725, 0.98550725, 1.        , 1.        ])"
            ]
          },
          "metadata": {},
          "execution_count": 336
        }
      ]
    },
    {
      "cell_type": "markdown",
      "metadata": {
        "id": "UaeXkDZzCX5m"
      },
      "source": [
        "# Calculation of Metrics"
      ]
    },
    {
      "cell_type": "code",
      "metadata": {
        "id": "4xiNqPQ--caE"
      },
      "source": [
        "N_rf = TN_rf + FP_rf\n",
        "P_rf = TP_rf + FN_rf  \n",
        "TPR_rf = TP_rf/P_rf\n",
        "\n",
        "N_dt = TN_dt + FP_dt\n",
        "P_dt = TP_dt + FN_dt  \n",
        "TPR_dt = TP_dt/P_dt"
      ],
      "execution_count": 313,
      "outputs": []
    },
    {
      "cell_type": "code",
      "metadata": {
        "id": "tPQXBwbC-qjL"
      },
      "source": [
        "TNR_rf = TN_rf/N_rf\n",
        "TNR_dt = TN_dt/N_dt"
      ],
      "execution_count": 314,
      "outputs": []
    },
    {
      "cell_type": "code",
      "metadata": {
        "id": "BZUoxcDc-yfz"
      },
      "source": [
        "FPR_rf = FP_rf/N_rf\n",
        "FPR_dt = FP_dt/N_dt"
      ],
      "execution_count": 315,
      "outputs": []
    },
    {
      "cell_type": "code",
      "metadata": {
        "id": "FtkZx_6f-1AC"
      },
      "source": [
        "FNR_rf  = FN_rf/P_rf\n",
        "FNR_dt  = FN_dt/P_dt"
      ],
      "execution_count": 316,
      "outputs": []
    },
    {
      "cell_type": "code",
      "metadata": {
        "id": "CxUmLbJ2-5u_"
      },
      "source": [
        "error_rate_rf = (FP_rf + FN_rf)/(P_rf + N_rf)\n",
        "error_rate_dt = (FP_dt + FN_dt)/(P_dt + N_dt)"
      ],
      "execution_count": 318,
      "outputs": []
    },
    {
      "cell_type": "code",
      "metadata": {
        "id": "B6NS0vWcBNmF"
      },
      "source": [
        "\n",
        "TSS_rf = (TP_rf/(TP_rf + FN_rf)) - (FP_rf/(FP_rf + TN_rf))\n",
        "TSS_rf\n",
        "\n",
        "TSS_dt = (TP_dt/(TP_dt + FN_dt)) - (FP_dt/(FP_dt + TN_dt))"
      ],
      "execution_count": 328,
      "outputs": []
    },
    {
      "cell_type": "markdown",
      "metadata": {
        "id": "4lm80J_VCJVy"
      },
      "source": [
        "# Summary Function:"
      ]
    },
    {
      "cell_type": "code",
      "metadata": {
        "colab": {
          "base_uri": "https://localhost:8080/"
        },
        "id": "MhuuB-3pUhLr",
        "outputId": "c9d854c9-70f0-4144-b41c-6e6032423bc9"
      },
      "source": [
        "from sklearn.model_selection import cross_val_score\n",
        "from sklearn.pipeline import make_pipeline\n",
        "from sklearn.preprocessing import StandardScaler\n",
        "from sklearn.svm import SVC\n",
        "from sklearn.ensemble import RandomForestClassifier\n",
        "from sklearn.model_selection import StratifiedKFold\n",
        "\n",
        "pipeline1 = make_pipeline(StandardScaler(), RandomForestClassifier(n_estimators=100, max_depth=4))\n",
        "pipeline2 = make_pipeline(StandardScaler(), DecisionTreeClassifier(max_depth=3, random_state=0))\n",
        "\n",
        "strtfdKFold = StratifiedKFold(n_splits=10)\n",
        "kfold = strtfdKFold.split(X_train, y_train)\n",
        "scores1 = []\n",
        "scores2 = []\n",
        "for k, (train, test) in enumerate(kfold):\n",
        "\n",
        "    pipeline1.fit(X_train.iloc[train, :], y_train.iloc[train])\n",
        "    pipeline2.fit(X_train.iloc[train, :], y_train.iloc[train])\n",
        "    score1 = pipeline1.score(X_train.iloc[test, :], y_train.iloc[test])\n",
        "    score2 = pipeline2.score(X_train.iloc[test, :], y_train.iloc[test])\n",
        "    scores1.append(score1)\n",
        "    scores2.append(score2)\n",
        "\n",
        "\n",
        "   \n",
        "    print('Fold',k)\n",
        "    # print('Fold: %2d, RF %s, Accuracy: %.3f' % (k+1, np.bincount(y_train.iloc[train]), score1))\n",
        "    # print('Fold: %2d, DT %s, Accuracy: %.3f' % (k+1, np.bincount(y_train.iloc[train]), score2))\n",
        "    from prettytable import PrettyTable \n",
        "    myTable = PrettyTable([\"Metrics | Algorithms\", \"Random Forest\", \"Decision Tree\", \"LSTM\"]) \n",
        "\n",
        "    myTable.add_row([\"Accuracy\", score1*100, score2*100, result]) \n",
        "    myTable.add_row([\"TP\", TP_rf, TP_dt, \"-\"]) \n",
        "    myTable.add_row([\"TN\", TN_rf, TN_dt, \"-\"]) \n",
        "    myTable.add_row([\"FP\", FP_rf, FP_dt, \"-\"]) \n",
        "    myTable.add_row([\"FN\", FN_rf, FN_dt, \"-\"]) \n",
        "    myTable.add_row([\"TPR\", TPR_rf*100, TPR_dt*100, \"-\"]) \n",
        "    myTable.add_row([\"TNR\", TNR_rf*100, TNR_dt*100, \"-\"]) \n",
        "    myTable.add_row([\"FPR\", FPR_rf*100, FPR_dt*100, \"-\"]) \n",
        "    myTable.add_row([\"FNR\", FNR_rf*100, FNR_dt*100, \"-\"]) \n",
        "    myTable.add_row([\"TSS\", TSS_rf*100, TSS_dt*100, \"-\"])\n",
        "    myTable.add_row([\"Error Rate\", error_rate_rf*100, error_rate_dt*100, \"-\"]) \n",
        "    myTable.add_row([\"Precision\",precision_score(y_test, y_pred_rf)*100 , precision_score(y_test, y_pred_dt)*100, \"-\"]) \n",
        "    myTable.add_row([\"Recall\", recall_score(y_test, y_pred_rf)*100, recall_score(y_test, y_pred_dt)*100, \"-\"])\n",
        "    myTable.add_row([\"F1-Score\",f1_score(y_test, y_pred_rf)*100 , f1_score(y_test, y_pred_dt)*100, \"-\"]) \n",
        "    print(myTable)\n",
        "print('Final:')\n",
        "myTable = PrettyTable([\"Algorithm\", \"Random Forest\", \"Decision Tree\", \"LSTM\"]) \n",
        "myTable.add_row([\"Accuracy \", score1*100, score2*100, \"-\"]) \n",
        "print(myTable)\n",
        "# print('\\n\\nCross-Validation accuracy: %.3f +/- %.3f' %(np.mean(scores1), np.std(scores1)))\n",
        "# print('\\n\\nCross-Validation accuracy: %.3f +/- %.3f' %(np.mean(scores2), np.std(scores2)))"
      ],
      "execution_count": 352,
      "outputs": [
        {
          "output_type": "stream",
          "name": "stdout",
          "text": [
            "Fold 0\n",
            "+----------------------+--------------------+--------------------+------+\n",
            "| Metrics | Algorithms |   Random Forest    |   Decision Tree    | LSTM |\n",
            "+----------------------+--------------------+--------------------+------+\n",
            "|       Accuracy       |  70.6896551724138  | 68.96551724137932  | None |\n",
            "|          TP          |        110         |        104         |  -   |\n",
            "|          TN          |         13         |         19         |  -   |\n",
            "|          FP          |         32         |         36         |  -   |\n",
            "|          FN          |         37         |         36         |  -   |\n",
            "|         TPR          | 74.82993197278913  | 75.91240875912408  |  -   |\n",
            "|         TNR          | 28.888888888888886 | 34.54545454545455  |  -   |\n",
            "|         FPR          | 71.11111111111111  | 65.45454545454545  |  -   |\n",
            "|         FNR          | 25.170068027210885 | 24.087591240875913 |  -   |\n",
            "|         TSS          | 3.718820861678007  | 8.831168831168835  |  -   |\n",
            "|      Error Rate      |      35.9375       |      35.9375       |  -   |\n",
            "|      Precision       |        74.0        | 63.46153846153846  |  -   |\n",
            "|        Recall        | 53.62318840579711  | 47.82608695652174  |  -   |\n",
            "|       F1-Score       | 62.184873949579845 | 54.545454545454554 |  -   |\n",
            "+----------------------+--------------------+--------------------+------+\n",
            "Fold 1\n",
            "+----------------------+--------------------+--------------------+------+\n",
            "| Metrics | Algorithms |   Random Forest    |   Decision Tree    | LSTM |\n",
            "+----------------------+--------------------+--------------------+------+\n",
            "|       Accuracy       | 82.75862068965517  | 81.03448275862068  | None |\n",
            "|          TP          |        110         |        104         |  -   |\n",
            "|          TN          |         13         |         19         |  -   |\n",
            "|          FP          |         32         |         36         |  -   |\n",
            "|          FN          |         37         |         36         |  -   |\n",
            "|         TPR          | 74.82993197278913  | 75.91240875912408  |  -   |\n",
            "|         TNR          | 28.888888888888886 | 34.54545454545455  |  -   |\n",
            "|         FPR          | 71.11111111111111  | 65.45454545454545  |  -   |\n",
            "|         FNR          | 25.170068027210885 | 24.087591240875913 |  -   |\n",
            "|         TSS          | 3.718820861678007  | 8.831168831168835  |  -   |\n",
            "|      Error Rate      |      35.9375       |      35.9375       |  -   |\n",
            "|      Precision       |        74.0        | 63.46153846153846  |  -   |\n",
            "|        Recall        | 53.62318840579711  | 47.82608695652174  |  -   |\n",
            "|       F1-Score       | 62.184873949579845 | 54.545454545454554 |  -   |\n",
            "+----------------------+--------------------+--------------------+------+\n",
            "Fold 2\n",
            "+----------------------+--------------------+--------------------+------+\n",
            "| Metrics | Algorithms |   Random Forest    |   Decision Tree    | LSTM |\n",
            "+----------------------+--------------------+--------------------+------+\n",
            "|       Accuracy       | 84.48275862068965  | 75.86206896551724  | None |\n",
            "|          TP          |        110         |        104         |  -   |\n",
            "|          TN          |         13         |         19         |  -   |\n",
            "|          FP          |         32         |         36         |  -   |\n",
            "|          FN          |         37         |         36         |  -   |\n",
            "|         TPR          | 74.82993197278913  | 75.91240875912408  |  -   |\n",
            "|         TNR          | 28.888888888888886 | 34.54545454545455  |  -   |\n",
            "|         FPR          | 71.11111111111111  | 65.45454545454545  |  -   |\n",
            "|         FNR          | 25.170068027210885 | 24.087591240875913 |  -   |\n",
            "|         TSS          | 3.718820861678007  | 8.831168831168835  |  -   |\n",
            "|      Error Rate      |      35.9375       |      35.9375       |  -   |\n",
            "|      Precision       |        74.0        | 63.46153846153846  |  -   |\n",
            "|        Recall        | 53.62318840579711  | 47.82608695652174  |  -   |\n",
            "|       F1-Score       | 62.184873949579845 | 54.545454545454554 |  -   |\n",
            "+----------------------+--------------------+--------------------+------+\n",
            "Fold 3\n",
            "+----------------------+--------------------+--------------------+------+\n",
            "| Metrics | Algorithms |   Random Forest    |   Decision Tree    | LSTM |\n",
            "+----------------------+--------------------+--------------------+------+\n",
            "|       Accuracy       |  70.6896551724138  | 68.96551724137932  | None |\n",
            "|          TP          |        110         |        104         |  -   |\n",
            "|          TN          |         13         |         19         |  -   |\n",
            "|          FP          |         32         |         36         |  -   |\n",
            "|          FN          |         37         |         36         |  -   |\n",
            "|         TPR          | 74.82993197278913  | 75.91240875912408  |  -   |\n",
            "|         TNR          | 28.888888888888886 | 34.54545454545455  |  -   |\n",
            "|         FPR          | 71.11111111111111  | 65.45454545454545  |  -   |\n",
            "|         FNR          | 25.170068027210885 | 24.087591240875913 |  -   |\n",
            "|         TSS          | 3.718820861678007  | 8.831168831168835  |  -   |\n",
            "|      Error Rate      |      35.9375       |      35.9375       |  -   |\n",
            "|      Precision       |        74.0        | 63.46153846153846  |  -   |\n",
            "|        Recall        | 53.62318840579711  | 47.82608695652174  |  -   |\n",
            "|       F1-Score       | 62.184873949579845 | 54.545454545454554 |  -   |\n",
            "+----------------------+--------------------+--------------------+------+\n",
            "Fold 4\n",
            "+----------------------+--------------------+--------------------+------+\n",
            "| Metrics | Algorithms |   Random Forest    |   Decision Tree    | LSTM |\n",
            "+----------------------+--------------------+--------------------+------+\n",
            "|       Accuracy       | 75.86206896551724  | 77.58620689655173  | None |\n",
            "|          TP          |        110         |        104         |  -   |\n",
            "|          TN          |         13         |         19         |  -   |\n",
            "|          FP          |         32         |         36         |  -   |\n",
            "|          FN          |         37         |         36         |  -   |\n",
            "|         TPR          | 74.82993197278913  | 75.91240875912408  |  -   |\n",
            "|         TNR          | 28.888888888888886 | 34.54545454545455  |  -   |\n",
            "|         FPR          | 71.11111111111111  | 65.45454545454545  |  -   |\n",
            "|         FNR          | 25.170068027210885 | 24.087591240875913 |  -   |\n",
            "|         TSS          | 3.718820861678007  | 8.831168831168835  |  -   |\n",
            "|      Error Rate      |      35.9375       |      35.9375       |  -   |\n",
            "|      Precision       |        74.0        | 63.46153846153846  |  -   |\n",
            "|        Recall        | 53.62318840579711  | 47.82608695652174  |  -   |\n",
            "|       F1-Score       | 62.184873949579845 | 54.545454545454554 |  -   |\n",
            "+----------------------+--------------------+--------------------+------+\n",
            "Fold 5\n",
            "+----------------------+--------------------+--------------------+------+\n",
            "| Metrics | Algorithms |   Random Forest    |   Decision Tree    | LSTM |\n",
            "+----------------------+--------------------+--------------------+------+\n",
            "|       Accuracy       | 77.58620689655173  | 72.41379310344827  | None |\n",
            "|          TP          |        110         |        104         |  -   |\n",
            "|          TN          |         13         |         19         |  -   |\n",
            "|          FP          |         32         |         36         |  -   |\n",
            "|          FN          |         37         |         36         |  -   |\n",
            "|         TPR          | 74.82993197278913  | 75.91240875912408  |  -   |\n",
            "|         TNR          | 28.888888888888886 | 34.54545454545455  |  -   |\n",
            "|         FPR          | 71.11111111111111  | 65.45454545454545  |  -   |\n",
            "|         FNR          | 25.170068027210885 | 24.087591240875913 |  -   |\n",
            "|         TSS          | 3.718820861678007  | 8.831168831168835  |  -   |\n",
            "|      Error Rate      |      35.9375       |      35.9375       |  -   |\n",
            "|      Precision       |        74.0        | 63.46153846153846  |  -   |\n",
            "|        Recall        | 53.62318840579711  | 47.82608695652174  |  -   |\n",
            "|       F1-Score       | 62.184873949579845 | 54.545454545454554 |  -   |\n",
            "+----------------------+--------------------+--------------------+------+\n",
            "Fold 6\n",
            "+----------------------+--------------------+--------------------+------+\n",
            "| Metrics | Algorithms |   Random Forest    |   Decision Tree    | LSTM |\n",
            "+----------------------+--------------------+--------------------+------+\n",
            "|       Accuracy       | 77.19298245614034  | 73.68421052631578  | None |\n",
            "|          TP          |        110         |        104         |  -   |\n",
            "|          TN          |         13         |         19         |  -   |\n",
            "|          FP          |         32         |         36         |  -   |\n",
            "|          FN          |         37         |         36         |  -   |\n",
            "|         TPR          | 74.82993197278913  | 75.91240875912408  |  -   |\n",
            "|         TNR          | 28.888888888888886 | 34.54545454545455  |  -   |\n",
            "|         FPR          | 71.11111111111111  | 65.45454545454545  |  -   |\n",
            "|         FNR          | 25.170068027210885 | 24.087591240875913 |  -   |\n",
            "|         TSS          | 3.718820861678007  | 8.831168831168835  |  -   |\n",
            "|      Error Rate      |      35.9375       |      35.9375       |  -   |\n",
            "|      Precision       |        74.0        | 63.46153846153846  |  -   |\n",
            "|        Recall        | 53.62318840579711  | 47.82608695652174  |  -   |\n",
            "|       F1-Score       | 62.184873949579845 | 54.545454545454554 |  -   |\n",
            "+----------------------+--------------------+--------------------+------+\n",
            "Fold 7\n",
            "+----------------------+--------------------+--------------------+------+\n",
            "| Metrics | Algorithms |   Random Forest    |   Decision Tree    | LSTM |\n",
            "+----------------------+--------------------+--------------------+------+\n",
            "|       Accuracy       | 64.91228070175438  | 68.42105263157895  | None |\n",
            "|          TP          |        110         |        104         |  -   |\n",
            "|          TN          |         13         |         19         |  -   |\n",
            "|          FP          |         32         |         36         |  -   |\n",
            "|          FN          |         37         |         36         |  -   |\n",
            "|         TPR          | 74.82993197278913  | 75.91240875912408  |  -   |\n",
            "|         TNR          | 28.888888888888886 | 34.54545454545455  |  -   |\n",
            "|         FPR          | 71.11111111111111  | 65.45454545454545  |  -   |\n",
            "|         FNR          | 25.170068027210885 | 24.087591240875913 |  -   |\n",
            "|         TSS          | 3.718820861678007  | 8.831168831168835  |  -   |\n",
            "|      Error Rate      |      35.9375       |      35.9375       |  -   |\n",
            "|      Precision       |        74.0        | 63.46153846153846  |  -   |\n",
            "|        Recall        | 53.62318840579711  | 47.82608695652174  |  -   |\n",
            "|       F1-Score       | 62.184873949579845 | 54.545454545454554 |  -   |\n",
            "+----------------------+--------------------+--------------------+------+\n",
            "Fold 8\n",
            "+----------------------+--------------------+--------------------+------+\n",
            "| Metrics | Algorithms |   Random Forest    |   Decision Tree    | LSTM |\n",
            "+----------------------+--------------------+--------------------+------+\n",
            "|       Accuracy       |  80.7017543859649  | 75.43859649122807  | None |\n",
            "|          TP          |        110         |        104         |  -   |\n",
            "|          TN          |         13         |         19         |  -   |\n",
            "|          FP          |         32         |         36         |  -   |\n",
            "|          FN          |         37         |         36         |  -   |\n",
            "|         TPR          | 74.82993197278913  | 75.91240875912408  |  -   |\n",
            "|         TNR          | 28.888888888888886 | 34.54545454545455  |  -   |\n",
            "|         FPR          | 71.11111111111111  | 65.45454545454545  |  -   |\n",
            "|         FNR          | 25.170068027210885 | 24.087591240875913 |  -   |\n",
            "|         TSS          | 3.718820861678007  | 8.831168831168835  |  -   |\n",
            "|      Error Rate      |      35.9375       |      35.9375       |  -   |\n",
            "|      Precision       |        74.0        | 63.46153846153846  |  -   |\n",
            "|        Recall        | 53.62318840579711  | 47.82608695652174  |  -   |\n",
            "|       F1-Score       | 62.184873949579845 | 54.545454545454554 |  -   |\n",
            "+----------------------+--------------------+--------------------+------+\n",
            "Fold 9\n",
            "+----------------------+--------------------+--------------------+------+\n",
            "| Metrics | Algorithms |   Random Forest    |   Decision Tree    | LSTM |\n",
            "+----------------------+--------------------+--------------------+------+\n",
            "|       Accuracy       | 78.94736842105263  | 70.17543859649122  | None |\n",
            "|          TP          |        110         |        104         |  -   |\n",
            "|          TN          |         13         |         19         |  -   |\n",
            "|          FP          |         32         |         36         |  -   |\n",
            "|          FN          |         37         |         36         |  -   |\n",
            "|         TPR          | 74.82993197278913  | 75.91240875912408  |  -   |\n",
            "|         TNR          | 28.888888888888886 | 34.54545454545455  |  -   |\n",
            "|         FPR          | 71.11111111111111  | 65.45454545454545  |  -   |\n",
            "|         FNR          | 25.170068027210885 | 24.087591240875913 |  -   |\n",
            "|         TSS          | 3.718820861678007  | 8.831168831168835  |  -   |\n",
            "|      Error Rate      |      35.9375       |      35.9375       |  -   |\n",
            "|      Precision       |        74.0        | 63.46153846153846  |  -   |\n",
            "|        Recall        | 53.62318840579711  | 47.82608695652174  |  -   |\n",
            "|       F1-Score       | 62.184873949579845 | 54.545454545454554 |  -   |\n",
            "+----------------------+--------------------+--------------------+------+\n",
            "Final:\n",
            "+-----------+-------------------+-------------------+------+\n",
            "| Algorithm |   Random Forest   |   Decision Tree   | LSTM |\n",
            "+-----------+-------------------+-------------------+------+\n",
            "| Accuracy  | 78.94736842105263 | 70.17543859649122 |  -   |\n",
            "+-----------+-------------------+-------------------+------+\n"
          ]
        }
      ]
    },
    {
      "cell_type": "markdown",
      "metadata": {
        "id": "-SBkKzRIH-cx"
      },
      "source": [
        "# Final Table"
      ]
    },
    {
      "cell_type": "code",
      "metadata": {
        "colab": {
          "base_uri": "https://localhost:8080/"
        },
        "id": "rBJx2sIjC4Uf",
        "outputId": "484d7863-4012-44de-b2ec-081564bc1803"
      },
      "source": [
        "from prettytable import PrettyTable \n",
        "myTable = PrettyTable([\"Metrics | Algorithms\", \"Random Forest\", \"Decision Tree\", \"LSTM\"]) \n",
        "myTable.add_row([\"TP\", \"110\", \"104\", \"-\"]) \n",
        "myTable.add_row([\"TN\", \"13\", \"19\", \"-\"]) \n",
        "myTable.add_row([\"FP\", \"32\", \"36\", \"-\"]) \n",
        "myTable.add_row([\"FN\", \"37\", \"33\", \"-\"]) \n",
        "myTable.add_row([\"TPR\", TPR_rf*100, TPR_dt*100, \"-\"]) \n",
        "myTable.add_row([\"TNR\", TNR_rf*100, TNR_dt*100, \"-\"]) \n",
        "myTable.add_row([\"FPR\", FPR_rf*100, FPR_dt*100, \"-\"]) \n",
        "myTable.add_row([\"FNR\", FNR_rf*100, FNR_dt*100, \"-\"]) \n",
        "myTable.add_row([\"TSS\", TSS_rf*100, TSS_dt*100, \"-\"])\n",
        "myTable.add_row([\"Error Rate\", error_rate_rf*100, error_rate_dt*100, \"-\"]) \n",
        "myTable.add_row([\"F1-Score\", \"62.2\", \"54.5\", \"-\"]) \n",
        "myTable.add_row([\"Precision\", \"74.0\", \"63.5\", \"-\"]) \n",
        "myTable.add_row([\"Recal\", \"53.6\", \"47.8\", \"-\"]) \n",
        "myTable.add_row([\"ROC\", \"-\", \"-\", \"69.9\"]) \n",
        "myTable.add_row([\"Cross-Validation\", \"75.63\", \"74.8\", \"73.81\"]) \n",
        "myTable.add_row([\"Accuracy\", \"76.6\", \"71.4\", \"-\"]) \n",
        "print(myTable)"
      ],
      "execution_count": 351,
      "outputs": [
        {
          "output_type": "stream",
          "name": "stdout",
          "text": [
            "+----------------------+--------------------+--------------------+-------+\n",
            "| Metrics | Algorithms |   Random Forest    |   Decision Tree    |  LSTM |\n",
            "+----------------------+--------------------+--------------------+-------+\n",
            "|          TP          |        110         |        104         |   -   |\n",
            "|          TN          |         13         |         19         |   -   |\n",
            "|          FP          |         32         |         36         |   -   |\n",
            "|          FN          |         37         |         33         |   -   |\n",
            "|         TPR          | 74.82993197278913  | 75.91240875912408  |   -   |\n",
            "|         TNR          | 28.888888888888886 | 34.54545454545455  |   -   |\n",
            "|         FPR          | 71.11111111111111  | 65.45454545454545  |   -   |\n",
            "|         FNR          | 25.170068027210885 | 24.087591240875913 |   -   |\n",
            "|         TSS          | 3.718820861678007  | 8.831168831168835  |   -   |\n",
            "|      Error Rate      |      35.9375       |      35.9375       |   -   |\n",
            "|       F1-Score       |        62.2        |        54.5        |   -   |\n",
            "|      Precision       |        74.0        |        63.5        |   -   |\n",
            "|        Recal         |        53.6        |        47.8        |   -   |\n",
            "|         ROC          |         -          |         -          |  69.9 |\n",
            "|   Cross-Validation   |       75.63        |        74.8        | 73.81 |\n",
            "|       Accuracy       |        76.6        |        71.4        |   -   |\n",
            "+----------------------+--------------------+--------------------+-------+\n"
          ]
        }
      ]
    }
  ]
}